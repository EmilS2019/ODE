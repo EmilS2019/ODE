{
 "nbformat": 4,
 "nbformat_minor": 2,
 "metadata": {
  "language_info": {
   "name": "python",
   "codemirror_mode": {
    "name": "ipython",
    "version": 3
   },
   "version": "3.6.2-final"
  },
  "orig_nbformat": 2,
  "file_extension": ".py",
  "mimetype": "text/x-python",
  "name": "python",
  "npconvert_exporter": "python",
  "pygments_lexer": "ipython3",
  "version": 3,
  "kernelspec": {
   "name": "python36232bit926d08e423e5414684f1c3c881c73cfd",
   "display_name": "Python 3.6.2 32-bit"
  }
 },
 "cells": [
  {
   "cell_type": "code",
   "execution_count": 93,
   "metadata": {},
   "outputs": [],
   "source": [
    "# Program      : Euler's Method                                                                            \n",
    "# Author       : MOOC team Mathematical Modelling Basics\n",
    "# Created      : April, 2020"
   ]
  },
  {
   "cell_type": "code",
   "execution_count": 94,
   "metadata": {},
   "outputs": [],
   "source": [
    "#Differential Equation of fish population\n",
    "def fishPopulation(startingPopulation, dt):\n",
    "    P = startingPopulation\n",
    "    dPdt = 0.7*P*(1-P/750)-20\n",
    "    P += dPdt * dt\n",
    "    return P"
   ]
  },
  {
   "cell_type": "code",
   "execution_count": 95,
   "metadata": {},
   "outputs": [],
   "source": [
    "#System of Differential Equations of rainbow and deadly fish population\n",
    "def twoFishPopulation(startingPopulations, dt):\n",
    "    P = startingPopulations[0]\n",
    "    G = startingPopulations[1]\n",
    "    #The first equation\n",
    "    dPdt = 0.7*P-0.007*P**2-0.04*P*G\n",
    "    #Second equation\n",
    "    dGdt = -0.25*G+0.008*P*G\n",
    "\n",
    "    P += dPdt\n",
    "    G += dGdt\n",
    "    return [P, G]\n",
    ""
   ]
  },
  {
   "cell_type": "code",
   "execution_count": 96,
   "metadata": {},
   "outputs": [],
   "source": [
    "from math import ceil\n",
    "\n",
    "def eulersMethod(dt, startingPopulation, days, ode):\n",
    "    numberOfTimes = int(days/dt)\n",
    "    if (dt <= 0 or numberOfTimes <= 0 or isinstance(numberOfTimes, int)==False):\n",
    "         print(\"Don't do that\")\n",
    "         return [0]*numberOfTimes\n",
    "\n",
    "    #This function returns an array that contains the history of the fish population. \n",
    "    else:\n",
    "        currentPopulation = startingPopulation\n",
    "        populationHistory = [0]\n",
    "        populationHistory[0] = currentPopulation\n",
    "        for i in range(numberOfTimes):\n",
    "            currentPopulation = ode(currentPopulation, dt)\n",
    "            #If the population drops below 0, quit\n",
    "            #if (currentPopulation <= 0):\n",
    "            #    print(f\"less than 0 population at {i} with value {currentPopulation}\")\n",
    "            #    return populationHistory\n",
    "\n",
    "            populationHistory.append(currentPopulation) \n",
    "\n",
    "    return populationHistory"
   ]
  },
  {
   "cell_type": "code",
   "execution_count": 97,
   "metadata": {},
   "outputs": [],
   "source": [
    "def printResults(results, dt, text=\"The result is:\"):\n",
    "    for i in range(len(results)):\n",
    "        print(f\"On day {i*dt} {text} {results[i]}\")"
   ]
  },
  {
   "cell_type": "code",
   "execution_count": 98,
   "metadata": {
    "tags": [
     "outputPrepend"
    ]
   },
   "outputs": [
    {
     "output_type": "error",
     "ename": "TypeError",
     "evalue": "can't multiply sequence by non-int of type 'list'",
     "traceback": [
      "\u001b[1;31m---------------------------------------------------------------------------\u001b[0m",
      "\u001b[1;31mTypeError\u001b[0m                                 Traceback (most recent call last)",
      "\u001b[1;32m<ipython-input-98-51d640a77e4b>\u001b[0m in \u001b[0;36m<module>\u001b[1;34m\u001b[0m\n\u001b[0;32m     15\u001b[0m \u001b[0mpopulationHistory\u001b[0m\u001b[1;33m.\u001b[0m\u001b[0mappend\u001b[0m\u001b[1;33m(\u001b[0m\u001b[0meulersMethod\u001b[0m\u001b[1;33m(\u001b[0m\u001b[0mdt\u001b[0m\u001b[1;33m[\u001b[0m\u001b[1;36m5\u001b[0m\u001b[1;33m]\u001b[0m\u001b[1;33m,\u001b[0m\u001b[0mstartingPopulation\u001b[0m\u001b[1;33m,\u001b[0m\u001b[0mdays\u001b[0m\u001b[1;33m,\u001b[0m\u001b[0mfishPopulation\u001b[0m\u001b[1;33m)\u001b[0m\u001b[1;33m)\u001b[0m\u001b[1;33m\u001b[0m\u001b[0m\n\u001b[0;32m     16\u001b[0m \u001b[1;33m\u001b[0m\u001b[0m\n\u001b[1;32m---> 17\u001b[1;33m \u001b[0mplotResults\u001b[0m\u001b[1;33m(\u001b[0m\u001b[0mpopulationHistory\u001b[0m\u001b[1;33m,\u001b[0m \u001b[0mdt\u001b[0m\u001b[1;33m)\u001b[0m\u001b[1;33m\u001b[0m\u001b[0m\n\u001b[0m\u001b[0;32m     18\u001b[0m \u001b[0mprintResults\u001b[0m\u001b[1;33m(\u001b[0m\u001b[0mpopulationHistory\u001b[0m\u001b[1;33m[\u001b[0m\u001b[1;36m0\u001b[0m\u001b[1;33m]\u001b[0m\u001b[1;33m,\u001b[0m \u001b[0mdt\u001b[0m\u001b[1;33m[\u001b[0m\u001b[1;36m0\u001b[0m\u001b[1;33m]\u001b[0m\u001b[1;33m)\u001b[0m\u001b[1;33m\u001b[0m\u001b[0m\n\u001b[0;32m     19\u001b[0m \u001b[1;33m\u001b[0m\u001b[0m\n",
      "\u001b[1;32m<ipython-input-90-6dd7d40681d9>\u001b[0m in \u001b[0;36mplotResults\u001b[1;34m(results, dt)\u001b[0m\n\u001b[0;32m      4\u001b[0m \u001b[1;32mdef\u001b[0m \u001b[0mplotResults\u001b[0m\u001b[1;33m(\u001b[0m\u001b[0mresults\u001b[0m\u001b[1;33m,\u001b[0m \u001b[0mdt\u001b[0m\u001b[1;33m)\u001b[0m\u001b[1;33m:\u001b[0m\u001b[1;33m\u001b[0m\u001b[0m\n\u001b[0;32m      5\u001b[0m     \u001b[1;32mfor\u001b[0m \u001b[0mj\u001b[0m \u001b[1;32min\u001b[0m \u001b[0mrange\u001b[0m\u001b[1;33m(\u001b[0m\u001b[0mlen\u001b[0m\u001b[1;33m(\u001b[0m\u001b[0mresults\u001b[0m\u001b[1;33m)\u001b[0m\u001b[1;33m)\u001b[0m\u001b[1;33m:\u001b[0m\u001b[1;33m\u001b[0m\u001b[0m\n\u001b[1;32m----> 6\u001b[1;33m         \u001b[0mplt\u001b[0m\u001b[1;33m.\u001b[0m\u001b[0mplot\u001b[0m\u001b[1;33m(\u001b[0m\u001b[1;33m[\u001b[0m\u001b[0mi\u001b[0m \u001b[1;32mfor\u001b[0m \u001b[0mi\u001b[0m \u001b[1;32min\u001b[0m \u001b[0mrange\u001b[0m\u001b[1;33m(\u001b[0m\u001b[0mlen\u001b[0m\u001b[1;33m(\u001b[0m\u001b[0mresults\u001b[0m\u001b[1;33m[\u001b[0m\u001b[0mj\u001b[0m\u001b[1;33m]\u001b[0m\u001b[1;33m*\u001b[0m\u001b[0mdt\u001b[0m\u001b[1;33m)\u001b[0m\u001b[1;33m)\u001b[0m\u001b[1;33m]\u001b[0m\u001b[1;33m,\u001b[0m \u001b[0mresults\u001b[0m\u001b[1;33m[\u001b[0m\u001b[0mj\u001b[0m\u001b[1;33m]\u001b[0m\u001b[1;33m)\u001b[0m\u001b[1;33m\u001b[0m\u001b[0m\n\u001b[0m\u001b[0;32m      7\u001b[0m     \u001b[0mplt\u001b[0m\u001b[1;33m.\u001b[0m\u001b[0mylabel\u001b[0m\u001b[1;33m(\u001b[0m\u001b[1;34m'Fish'\u001b[0m\u001b[1;33m)\u001b[0m\u001b[1;33m\u001b[0m\u001b[0m\n\u001b[0;32m      8\u001b[0m     \u001b[0mplt\u001b[0m\u001b[1;33m.\u001b[0m\u001b[0mxlabel\u001b[0m\u001b[1;33m(\u001b[0m\u001b[1;34m'Days'\u001b[0m\u001b[1;33m)\u001b[0m\u001b[1;33m\u001b[0m\u001b[0m\n",
      "\u001b[1;31mTypeError\u001b[0m: can't multiply sequence by non-int of type 'list'"
     ]
    }
   ],
   "source": [
    "#Main\n",
    "days = 25\n",
    "startingPopulation = 30\n",
    "dt = [1, 1/2, 1/4, 1/8, 1/16, 1/32]\n",
    "\n",
    "#Fish at 13 with dt= 1/8   407.24955562528396\n",
    "\n",
    "\n",
    "populationHistory = []\n",
    "populationHistory.append(eulersMethod(dt[0],startingPopulation,days,fishPopulation))\n",
    "populationHistory.append(eulersMethod(dt[1],startingPopulation,days,fishPopulation))\n",
    "populationHistory.append(eulersMethod(dt[2],startingPopulation,days,fishPopulation))\n",
    "populationHistory.append(eulersMethod(dt[3],startingPopulation,days,fishPopulation))\n",
    "populationHistory.append(eulersMethod(dt[4],startingPopulation,days,fishPopulation))\n",
    "populationHistory.append(eulersMethod(dt[5],startingPopulation,days,fishPopulation))\n",
    "\n",
    "plotResults(populationHistory, dt)\n",
    "printResults(populationHistory[0], dt[0])\n",
    "\n",
    "errorHistory = []\n",
    "errorHistory.append(errorFunction(populationHistory[5], populationHistory[4], dt[5]))\n",
    "plotResults(errorHistory, dt)\n",
    "\n",
    "#print(f\"POpulation history:{populationHistory}   error history: {errorHistory}\")"
   ]
  },
  {
   "cell_type": "code",
   "execution_count": 99,
   "metadata": {},
   "outputs": [],
   "source": [
    "def errorFunction(result, resultTimesTwo, dt):\n",
    "    newResults = []\n",
    "    for i in range(len(resultTimesTwo)):\n",
    "        try:\n",
    "            newResults.append(abs(result[2*i][1]-resultTimesTwo[i][1]))\n",
    "        except:\n",
    "            break\n",
    "\n",
    "    return newResults"
   ]
  },
  {
   "cell_type": "code",
   "execution_count": 100,
   "metadata": {},
   "outputs": [],
   "source": [
    "import matplotlib.pyplot as plt\n",
    "from math import ceil\n",
    "from numpy import array\n",
    "def plotResults(results, dt):    \n",
    "    for j in range(len(results)):\n",
    "        plt.plot([i for i in range(len(array(results[j])*dt))], results[j])\n",
    "    plt.ylabel('Fish')\n",
    "    plt.xlabel('Days')\n",
    "    plt.grid(True)\n",
    "    plt.xticks(fontsize = 15)\n",
    "    plt.yticks(fontsize = 15)\n",
    "    plt.show()"
   ]
  },
  {
   "cell_type": "code",
   "execution_count": 101,
   "metadata": {
    "tags": [
     "outputPrepend"
    ]
   },
   "outputs": [
    {
     "output_type": "error",
     "ename": "ValueError",
     "evalue": "operands could not be broadcast together with shapes (1601,2) (6,) ",
     "traceback": [
      "\u001b[1;31m---------------------------------------------------------------------------\u001b[0m",
      "\u001b[1;31mValueError\u001b[0m                                Traceback (most recent call last)",
      "\u001b[1;32m<ipython-input-101-e575ae3367b0>\u001b[0m in \u001b[0;36m<module>\u001b[1;34m\u001b[0m\n\u001b[0;32m      9\u001b[0m \u001b[1;33m\u001b[0m\u001b[0m\n\u001b[0;32m     10\u001b[0m \u001b[1;33m\u001b[0m\u001b[0m\n\u001b[1;32m---> 11\u001b[1;33m \u001b[0mplotResults\u001b[0m\u001b[1;33m(\u001b[0m\u001b[0mpopulationHistory\u001b[0m\u001b[1;33m,\u001b[0m \u001b[0mdt\u001b[0m\u001b[1;33m)\u001b[0m\u001b[1;33m\u001b[0m\u001b[0m\n\u001b[0m\u001b[0;32m     12\u001b[0m \u001b[0mprintResults\u001b[0m\u001b[1;33m(\u001b[0m\u001b[0mpopulationHistory\u001b[0m\u001b[1;33m[\u001b[0m\u001b[1;36m0\u001b[0m\u001b[1;33m]\u001b[0m\u001b[1;33m,\u001b[0m \u001b[0mdt\u001b[0m\u001b[1;33m[\u001b[0m\u001b[1;36m0\u001b[0m\u001b[1;33m]\u001b[0m\u001b[1;33m,\u001b[0m \u001b[1;34m\"The population is: \"\u001b[0m\u001b[1;33m)\u001b[0m\u001b[1;33m\u001b[0m\u001b[0m\n\u001b[0;32m     13\u001b[0m \u001b[1;33m\u001b[0m\u001b[0m\n",
      "\u001b[1;32m<ipython-input-100-8959b71eb8cc>\u001b[0m in \u001b[0;36mplotResults\u001b[1;34m(results, dt)\u001b[0m\n\u001b[0;32m      4\u001b[0m \u001b[1;32mdef\u001b[0m \u001b[0mplotResults\u001b[0m\u001b[1;33m(\u001b[0m\u001b[0mresults\u001b[0m\u001b[1;33m,\u001b[0m \u001b[0mdt\u001b[0m\u001b[1;33m)\u001b[0m\u001b[1;33m:\u001b[0m\u001b[1;33m\u001b[0m\u001b[0m\n\u001b[0;32m      5\u001b[0m     \u001b[1;32mfor\u001b[0m \u001b[0mj\u001b[0m \u001b[1;32min\u001b[0m \u001b[0mrange\u001b[0m\u001b[1;33m(\u001b[0m\u001b[0mlen\u001b[0m\u001b[1;33m(\u001b[0m\u001b[0mresults\u001b[0m\u001b[1;33m)\u001b[0m\u001b[1;33m)\u001b[0m\u001b[1;33m:\u001b[0m\u001b[1;33m\u001b[0m\u001b[0m\n\u001b[1;32m----> 6\u001b[1;33m         \u001b[0mplt\u001b[0m\u001b[1;33m.\u001b[0m\u001b[0mplot\u001b[0m\u001b[1;33m(\u001b[0m\u001b[1;33m[\u001b[0m\u001b[0mi\u001b[0m \u001b[1;32mfor\u001b[0m \u001b[0mi\u001b[0m \u001b[1;32min\u001b[0m \u001b[0mrange\u001b[0m\u001b[1;33m(\u001b[0m\u001b[0mlen\u001b[0m\u001b[1;33m(\u001b[0m\u001b[0marray\u001b[0m\u001b[1;33m(\u001b[0m\u001b[0mresults\u001b[0m\u001b[1;33m[\u001b[0m\u001b[0mj\u001b[0m\u001b[1;33m]\u001b[0m\u001b[1;33m)\u001b[0m\u001b[1;33m*\u001b[0m\u001b[0mdt\u001b[0m\u001b[1;33m)\u001b[0m\u001b[1;33m)\u001b[0m\u001b[1;33m]\u001b[0m\u001b[1;33m,\u001b[0m \u001b[0mresults\u001b[0m\u001b[1;33m[\u001b[0m\u001b[0mj\u001b[0m\u001b[1;33m]\u001b[0m\u001b[1;33m)\u001b[0m\u001b[1;33m\u001b[0m\u001b[0m\n\u001b[0m\u001b[0;32m      7\u001b[0m     \u001b[0mplt\u001b[0m\u001b[1;33m.\u001b[0m\u001b[0mylabel\u001b[0m\u001b[1;33m(\u001b[0m\u001b[1;34m'Fish'\u001b[0m\u001b[1;33m)\u001b[0m\u001b[1;33m\u001b[0m\u001b[0m\n\u001b[0;32m      8\u001b[0m     \u001b[0mplt\u001b[0m\u001b[1;33m.\u001b[0m\u001b[0mxlabel\u001b[0m\u001b[1;33m(\u001b[0m\u001b[1;34m'Days'\u001b[0m\u001b[1;33m)\u001b[0m\u001b[1;33m\u001b[0m\u001b[0m\n",
      "\u001b[1;31mValueError\u001b[0m: operands could not be broadcast together with shapes (1601,2) (6,) "
     ]
    }
   ],
   "source": [
    "dt = [1, 1/2, 1/4, 1/8, 1/16, 1/32]\n",
    "startingPopulation = [20, 5]\n",
    "days = 100\n",
    "\n",
    "populationHistory = []\n",
    "#for i in range(len(dt)):\n",
    "#    populationHistory.append(eulersMethod(dt[i], startingPopulation, days, twoFishPopulation))\n",
    "populationHistory.append(eulersMethod(dt[4], startingPopulation, days, twoFishPopulation))\n",
    "\n",
    "\n",
    "plotResults(populationHistory, dt)\n",
    "printResults(populationHistory[0], dt[0], \"The population is: \")\n",
    "\n",
    "focus = 0\n",
    "err = errorFunction(populationHistory[focus], populationHistory[focus+1], dt[focus])\n",
    "printResults(err, dt[focus], 'The error between the two are:')"
   ]
  },
  {
   "cell_type": "code",
   "execution_count": null,
   "metadata": {},
   "outputs": [],
   "source": []
  }
 ]
}